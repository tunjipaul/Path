{
 "cells": [
  {
   "cell_type": "markdown",
   "id": "c395f215",
   "metadata": {},
   "source": [
    "1. Setting up\n",
    "- It’s cleaner to work inside a folder so files don’t clutter your desktop."
   ]
  },
  {
   "cell_type": "code",
   "execution_count": 2,
   "id": "6de469e2",
   "metadata": {},
   "outputs": [
    {
     "data": {
      "text/plain": [
       "WindowsPath('workspace_files/notes.txt')"
      ]
     },
     "execution_count": 2,
     "metadata": {},
     "output_type": "execute_result"
    }
   ],
   "source": [
    "from pathlib import Path\n",
    "\n",
    "workspace = Path(\"workspace_files\")\n",
    "workspace.mkdir(exist_ok=True)\n",
    "file_path = workspace / \"notes.txt\"\n",
    "file_path"
   ]
  },
  {
   "cell_type": "markdown",
   "id": "c194ee04",
   "metadata": {},
   "source": [
    "2. Create a file\n",
    "- There are two common ways to “create”:\n",
    "\n",
    " - `w` (write): creates the file if it doesn’t exist; overwrites if it does.\n",
    "\n",
    " - `x` (exclusive create): creates the file only if it doesn’t exist; errors if it does (safer if you don’t want to overwrite by mistake).\n",
    "\n",
    " - Use `w` when you’re okay with replacing old content; use `x` when you want to avoid accidental overwrites."
   ]
  },
  {
   "cell_type": "code",
   "execution_count": 3,
   "id": "60aaa941",
   "metadata": {},
   "outputs": [],
   "source": [
    "# (A) Create or overwrite using 'w'\n",
    "f = open(file_path, \"w\", encoding=\"utf-8\")\n",
    "f.write(\"This is the first line in notes.txt\\n\")\n",
    "f.close()\n",
    "\n",
    "# (B) Safe-create using 'x' (uncomment to try once)\n",
    "# f = open(workspace / \"created_once.txt\", \"x\", encoding=\"utf-8\")\n",
    "# f.write(\"This file will only be created if it doesn't exist.\\n\")\n",
    "# f.close()\n"
   ]
  },
  {
   "cell_type": "markdown",
   "id": "e3c3ba65",
   "metadata": {},
   "source": [
    "3. Open a file\n",
    "- Opening a file prepares it for reading or writing."
   ]
  },
  {
   "cell_type": "code",
   "execution_count": 4,
   "id": "515a8895",
   "metadata": {},
   "outputs": [],
   "source": [
    "# Open for writing again (this will overwrite!)\n",
    "f = open(file_path, \"w\", encoding=\"utf-8\")\n",
    "f.write(\"Replaced the old content with this line.\\n\")\n",
    "f.close()\n",
    "\n",
    "# Note: If you only want to add new content, don’t use 'w' — use 'a' (append)."
   ]
  },
  {
   "cell_type": "markdown",
   "id": "c6c26ed5",
   "metadata": {},
   "source": [
    "4. Write to a file\n",
    "\n",
    "- Writing puts text into the file. write() does not add newlines automatically (you add `\\n` yourself)."
   ]
  },
  {
   "cell_type": "code",
   "execution_count": 5,
   "id": "e4d029ec",
   "metadata": {},
   "outputs": [],
   "source": [
    "f = open(file_path, \"w\", encoding=\"utf-8\")\n",
    "f.write(\"Shopping List:\\n\")\n",
    "f.write(\" - Rice\\n\")\n",
    "f.write(\" - Beans\\n\")\n",
    "f.write(\" - Garri\\n\")\n",
    "f.close()"
   ]
  },
  {
   "cell_type": "markdown",
   "id": "e50a0b84",
   "metadata": {},
   "source": [
    "5. Append to a file\n",
    "\n",
    "- Append adds to the end without deleting what’s already there."
   ]
  },
  {
   "cell_type": "code",
   "execution_count": 6,
   "id": "b201052c",
   "metadata": {},
   "outputs": [],
   "source": [
    "f = open(file_path, \"a\", encoding=\"utf-8\")\n",
    "f.write(\" - Groundnut oil\\n\")\n",
    "f.write(\" - Maggi\\n\")\n",
    "f.close()"
   ]
  },
  {
   "cell_type": "markdown",
   "id": "29ccc51b",
   "metadata": {},
   "source": [
    "6. Read from a file\n",
    "- There are four common ways:\n",
    "\n",
    "  - read() - whole file as one string\n",
    "\n",
    "  - read(n)  - first n characters\n",
    "\n",
    "  - readline()  - one line\n",
    "\n",
    "  - readlines()  - list of all lines"
   ]
  },
  {
   "cell_type": "code",
   "execution_count": 7,
   "id": "daf880e0",
   "metadata": {},
   "outputs": [
    {
     "name": "stdout",
     "output_type": "stream",
     "text": [
      "Shopping List:\n",
      " - Rice\n",
      " - Beans\n",
      " - Garri\n",
      " - Groundnut oil\n",
      " - Maggi\n",
      "\n"
     ]
    }
   ],
   "source": [
    "# Read the whole file\n",
    "f = open(file_path, \"r\", encoding=\"utf-8\")\n",
    "content = f.read()\n",
    "f.close()\n",
    "print(content)"
   ]
  },
  {
   "cell_type": "code",
   "execution_count": 8,
   "id": "00402e72",
   "metadata": {},
   "outputs": [
    {
     "name": "stdout",
     "output_type": "stream",
     "text": [
      "First line: Shopping List:\n",
      "Second line:  - Rice\n"
     ]
    }
   ],
   "source": [
    "# Read line-by-line\n",
    "f = open(file_path, \"r\", encoding=\"utf-8\")\n",
    "print(\"First line:\", f.readline().rstrip())\n",
    "print(\"Second line:\", f.readline().rstrip())\n",
    "f.close()"
   ]
  },
  {
   "cell_type": "code",
   "execution_count": 9,
   "id": "3e5255a4",
   "metadata": {},
   "outputs": [
    {
     "name": "stdout",
     "output_type": "stream",
     "text": [
      "Lines list: ['Shopping List:', ' - Rice', ' - Beans', ' - Garri', ' - Groundnut oil', ' - Maggi']\n"
     ]
    }
   ],
   "source": [
    "# Read as a list of lines\n",
    "f = open(file_path, \"r\", encoding=\"utf-8\")\n",
    "lines = f.readlines()\n",
    "f.close()\n",
    "print(\"Lines list:\", [line.rstrip() for line in lines])"
   ]
  },
  {
   "cell_type": "code",
   "execution_count": 10,
   "id": "90623a93",
   "metadata": {},
   "outputs": [
    {
     "name": "stdout",
     "output_type": "stream",
     "text": [
      "-> Shopping List:\n",
      "->  - Rice\n",
      "->  - Beans\n",
      "->  - Garri\n",
      "->  - Groundnut oil\n",
      "->  - Maggi\n"
     ]
    }
   ],
   "source": [
    "# Iterate over lines (memory-friendly)\n",
    "f = open(file_path, \"r\", encoding=\"utf-8\")\n",
    "for line in f:\n",
    "    print(\"->\", line.rstrip())\n",
    "f.close()"
   ]
  },
  {
   "cell_type": "markdown",
   "id": "dc680dbf",
   "metadata": {},
   "source": [
    "7. Close the file\n",
    "\n",
    " - Always close files opened with open(...).\n",
    "\n",
    "  - It flushes (saves) any buffered data to disk.\n",
    "\n",
    "  - It releases the OS handle so other programs can use the file.\n",
    "\n",
    "  - It avoids weird bugs (especially on Windows).\n",
    "\n",
    "You have seen f.close() above. But there’s a better way…"
   ]
  },
  {
   "cell_type": "markdown",
   "id": "bf0585e8",
   "metadata": {},
   "source": [
    "8. Use with `open(...) as f:` (best practice)\n",
    "\n",
    "The with statement automatically closes the file even if an error happens. This is the recommended way."
   ]
  },
  {
   "cell_type": "code",
   "execution_count": null,
   "id": "1fc2799b",
   "metadata": {},
   "outputs": [],
   "source": [
    "# Write safely\n",
    "with open(file_path, \"w\", encoding=\"utf-8\") as f:\n",
    "    f.write(\"My Todo List:\\n\")\n",
    "    f.write(\" - Revise Python file handling\\n\")\n",
    "    f.write(\" - Practice error handling within a function\")\n",
    "    f.write(\" - Practice JSON & CSV\\n\")\n"
   ]
  },
  {
   "cell_type": "code",
   "execution_count": null,
   "id": "6633adc9",
   "metadata": {},
   "outputs": [],
   "source": [
    "# Append safely\n",
    "with open(file_path, \"a\", encoding=\"utf-8\") as f:\n",
    "    f.write(\" - Build a small project\\n\")"
   ]
  },
  {
   "cell_type": "markdown",
   "id": "843b0734",
   "metadata": {},
   "source": [
    "**Summary**\n",
    "\n",
    "| Mode   | Meaning                       | Typical use     |\n",
    "| ------ | ----------------------------- | --------------- |\n",
    "| `'r'`  | Read (file must exist)        | Reading text    |\n",
    "| `'w'`  | Write (overwrite/create)      | Start fresh     |\n",
    "| `'a'`  | Append (create if missing)    | Add to end      |\n",
    "| `'x'`  | Create (error if exists)      | Safe create     |\n",
    "| `'b'`  | Binary (combine, e.g. `'rb'`) | Images/videos   |\n",
    "| `'t'`  | Text (default)                | Human-readable  |\n",
    "| `'r+'` | Read & write (no truncate)    | Update in place |\n"
   ]
  },
  {
   "cell_type": "markdown",
   "id": "e4056ea9",
   "metadata": {},
   "source": [
    "**More Context**"
   ]
  },
  {
   "cell_type": "markdown",
   "id": "2318de41",
   "metadata": {},
   "source": [
    "**What Happens When Things Go Wrong?**\n",
    "\n",
    "- Sometimes files don't exist, or we don't have permission to read them. Python will give us an error, but we can catch and handle these errors gracefully. Let's see how to do that."
   ]
  },
  {
   "cell_type": "code",
   "execution_count": null,
   "id": "a7ccf204",
   "metadata": {},
   "outputs": [
    {
     "ename": "",
     "evalue": "",
     "output_type": "error",
     "traceback": [
      "\u001b[1;31mRunning cells with 'Python 3.13.7' requires the ipykernel package.\n",
      "\u001b[1;31m<a href='command:jupyter.createPythonEnvAndSelectController'>Create a Python Environment</a> with the required packages.\n",
      "\u001b[1;31mOr install 'ipykernel' using the command: 'c:/Users/ncc(Admin)/AppData/Local/Microsoft/WindowsApps/python3.13.exe -m pip install ipykernel -U --user --force-reinstall'"
     ]
    }
   ],
   "source": [
    "from pathlib import Path\n",
    "\n",
    "workspace = Path(\"workspace_files\")\n",
    "workspace.mkdir(exist_ok=True)\n",
    "\n",
    "# Try to read a file that doesn't exist\n",
    "try:\n",
    "    with open(workspace / \"missing_file.txt\", \"r\") as f:\n",
    "        content = f.read()\n",
    "        print(\"File content:\", content)\n",
    "except FileNotFoundError:\n",
    "    print(\"Oops! That file doesn't exist yet.\")\n",
    "    print(\"Let's create it first!\")\n",
    "    \n",
    "    # Now create the file\n",
    "    with open(workspace / \"missing_file.txt\", \"w\") as f:\n",
    "        f.write(\"Now I exist!\")\n",
    "    print(\"File created successfully!\")\n",
    "\n",
    "\n",
    "# If you write this correctly, you should see something like this...\n",
    "\n",
    "\"\"\"\n",
    "Oops! That file doesn't exist yet.\n",
    "Let's create it first!\n",
    "File created successfully!\n",
    "\"\"\""
   ]
  },
  {
   "cell_type": "markdown",
   "id": "3e3e1c69",
   "metadata": {},
   "source": [
    "**Checking If Files Exist Before Using Them**\n",
    "- Before trying to read or write files, it's smart to check if they exist first."
   ]
  },
  {
   "cell_type": "code",
   "execution_count": null,
   "id": "aef06b62",
   "metadata": {},
   "outputs": [],
   "source": [
    "from pathlib import Path\n",
    "\n",
    "workspace = Path(\"workspace_files\")\n",
    "file_path = workspace / \"notes.txt\"\n",
    "\n",
    "# Check if our file exists\n",
    "if file_path.exists():\n",
    "    print(f\"Found the file: {file_path.name}\")\n",
    "    \n",
    "    # Get some information about the file\n",
    "    file_size = file_path.stat().st_size\n",
    "    print(f\"File size: {file_size} bytes\")\n",
    "    \n",
    "    # Read and show the content\n",
    "    with open(file_path, \"r\", encoding=\"utf-8\") as f:\n",
    "        content = f.read()\n",
    "        print(f\"Content preview: {content[:50]}...\")  # First 50 characters\n",
    "else:\n",
    "    print(f\"File {file_path.name} doesn't exist\")\n",
    "    print(\"You might want to create it first!\")\n",
    "\n",
    "# If notes.txt exists\n",
    "\"\"\"\n",
    "Found the file: notes.txt\n",
    "File size: 67 bytes\n",
    "Content preview: Todo:\n",
    " - Revise Python file handling\n",
    " - Practice J...\n",
    "\n",
    "\"\"\"\n",
    "\n",
    "# if notes.txt does not exist\n",
    "\n",
    "\"\"\"\n",
    "File notes.txt doesn't exist\n",
    "You might want to create it first!\n",
    "\"\"\""
   ]
  },
  {
   "cell_type": "markdown",
   "id": "e8786a32",
   "metadata": {},
   "source": [
    "**Working with JSON Files (Storing Data)**\n",
    "\n",
    "- JSON files are great for storing structured data like dictionaries and lists. Think of them as a way to save Python data to a file."
   ]
  },
  {
   "cell_type": "code",
   "execution_count": null,
   "id": "90e3aceb",
   "metadata": {},
   "outputs": [],
   "source": [
    "import json\n",
    "from pathlib import Path\n",
    "\n",
    "workspace = Path(\"workspace_files\")\n",
    "\n",
    "# Create some student data (like a mini database)\n",
    "student_data = {\n",
    "    \"name\": \"Oyindamola\",\n",
    "    \"age\": 16,\n",
    "    \"courses\": [\"Python\", \"Data Science\", \"Web Development\"],\n",
    "    \"grades\": {\"Python\": \"A\", \"Data Science\": \"B+\", \"Web Development\": \"A-\"},\n",
    "    \"is_graduated\": False\n",
    "}\n",
    "\n",
    "# Save the data to a JSON file\n",
    "json_file = workspace / \"student_data.json\"\n",
    "with open(json_file, \"w\", encoding=\"utf-8\") as f:\n",
    "    json.dump(student_data, f, indent=2)  # indent=2 makes it pretty and readable\n",
    "\n",
    "print(\"Student data saved to JSON file!\")\n",
    "\n",
    "# Now read it back\n",
    "with open(json_file, \"r\", encoding=\"utf-8\") as f:\n",
    "    loaded_data = json.load(f)\n",
    "\n",
    "print(\"\\nData read from JSON file:\")\n",
    "print(f\"Student name: {loaded_data['name']}\")\n",
    "print(f\"Age: {loaded_data['age']}\")\n",
    "print(f\"Courses: {', '.join(loaded_data['courses'])}\")\n",
    "print(f\"Python grade: {loaded_data['grades']['Python']}\")"
   ]
  },
  {
   "cell_type": "markdown",
   "id": "bca8edef",
   "metadata": {},
   "source": [
    "**Working with CSV Files -Spreadsheet like Data**\n",
    "- CSV files are like simple spreadsheets. They are perfect for storing data in rows and columns."
   ]
  },
  {
   "cell_type": "code",
   "execution_count": null,
   "id": "cbacd2a6",
   "metadata": {},
   "outputs": [],
   "source": [
    "import csv\n",
    "from pathlib import Path\n",
    "\n",
    "workspace = Path(\"workspace_files\")\n",
    "csv_file = workspace / \"students.csv\"\n",
    "\n",
    "# Create sample student data\n",
    "students = [\n",
    "    [\"Name\", \"Age\", \"Course\", \"Grade\"],  # Header row\n",
    "    [\"Precious\", 20, \"Python\", \"A\"],\n",
    "    [\"Favour\", 22, \"JavaScript\", \"B+\"],\n",
    "    [\"Ore\", 21, \"Python\", \"A-\"],\n",
    "    [\"Susan\", 23, \"Data Science\", \"A\"]\n",
    "]\n",
    "\n",
    "# Write data to CSV file\n",
    "with open(csv_file, \"w\", newline=\"\", encoding=\"utf-8\") as f:\n",
    "    writer = csv.writer(f)\n",
    "    writer.writerows(students)  # Write all rows at once\n",
    "\n",
    "print(\"Student data written to CSV file!\")\n",
    "\n",
    "# Read the CSV file back\n",
    "print(\"\\nReading CSV file:\")\n",
    "with open(csv_file, \"r\", encoding=\"utf-8\") as f:\n",
    "    reader = csv.reader(f)\n",
    "    \n",
    "    for row_number, row in enumerate(reader):\n",
    "        if row_number == 0:  # Header row\n",
    "            print(f\"Headers: {' | '.join(row)}\")\n",
    "            print(\"-\" * 40)\n",
    "        else:  # Data rows\n",
    "            name, age, course, grade = row\n",
    "            print(f\"{name} ({age} years) - {course}: {grade}\")"
   ]
  },
  {
   "cell_type": "markdown",
   "id": "a80f88e8",
   "metadata": {},
   "source": [
    "**Working with Multiple Files at Once**\n",
    "\n",
    "- Sometimes you need to read from one file and write to another at the same time."
   ]
  },
  {
   "cell_type": "code",
   "execution_count": null,
   "id": "da0f0f44",
   "metadata": {},
   "outputs": [],
   "source": [
    "from pathlib import Path\n",
    "\n",
    "workspace = Path(\"workspace_files\")\n",
    "input_file = workspace / \"original.txt\"\n",
    "output_file = workspace / \"processed.txt\"\n",
    "\n",
    "# Create an input file with some text\n",
    "sample_text = \"\"\"hello world\n",
    "python programming\n",
    "file handling tutorial\n",
    "learning is fun\"\"\"\n",
    "\n",
    "with open(input_file, \"w\", encoding=\"utf-8\") as f:\n",
    "    f.write(sample_text)\n",
    "\n",
    "print(\"Created input file\")\n",
    "\n",
    "# Process the file: read from input, write processed version to output\n",
    "with open(input_file, \"r\", encoding=\"utf-8\") as infile, \\\n",
    "     open(output_file, \"w\", encoding=\"utf-8\") as outfile:\n",
    "    \n",
    "    line_number = 1\n",
    "    for line in infile:\n",
    "        # Process each line: make it uppercase and add line numbers\n",
    "        processed_line = f\"Line {line_number}: {line.strip().upper()}\\n\"\n",
    "        outfile.write(processed_line)\n",
    "        line_number += 1\n",
    "\n",
    "print(\"File processing complete!\")\n",
    "\n",
    "# Show the results\n",
    "print(\"\\nOriginal file:\")\n",
    "with open(input_file, \"r\", encoding=\"utf-8\") as f:\n",
    "    print(f.read())\n",
    "\n",
    "print(\"\\nProcessed file:\")\n",
    "with open(output_file, \"r\", encoding=\"utf-8\") as f:\n",
    "    print(f.read())\n",
    "\n",
    "# Output to expect\n",
    "\"\"\"\n",
    "Created input file\n",
    "File processing complete!\n",
    "\n",
    "Original file:\n",
    "hello world\n",
    "python programming\n",
    "file handling tutorial\n",
    "learning is fun\n",
    "\n",
    "Processed file:\n",
    "Line 1: HELLO WORLD\n",
    "Line 2: PYTHON PROGRAMMING\n",
    "Line 3: FILE HANDLING TUTORIAL\n",
    "Line 4: LEARNING IS FUN\n",
    "\"\"\""
   ]
  },
  {
   "cell_type": "markdown",
   "id": "84689548",
   "metadata": {},
   "source": [
    "** Moving Around Inside a File **\n",
    "\n",
    "- Sometimes you want to jump to a specific part of a file instead of reading from the beginning."
   ]
  },
  {
   "cell_type": "code",
   "execution_count": null,
   "id": "93e2bd38",
   "metadata": {},
   "outputs": [],
   "source": [
    "from pathlib import Path\n",
    "\n",
    "workspace = Path(\"workspace_files\")\n",
    "file_path = workspace / \"story.txt\"\n",
    "\n",
    "# Create a sample story file\n",
    "story = \"\"\"Once upon a time, there was a lady  who was very curious and inquisitive, \n",
    "she just want to know how things work behind the scene. \n",
    "Eventually she had an opportunity to hopp into the world of programming for the first time.\n",
    "She started with python, now she codes in Python every day.\n",
    "One day, she discovered file handling.\n",
    "It opened up a whole new world of possibilities!\n",
    "The end.\"\"\"\n",
    "\n",
    "with open(file_path, \"w\", encoding=\"utf-8\") as f:\n",
    "    f.write(story)\n",
    "\n",
    "print(\"Created a story file!\")\n",
    "\n",
    "# Now let's explore moving around in the file\n",
    "with open(file_path, \"r\", encoding=\"utf-8\") as f:\n",
    "    print(\"\\nFile positioning demo:\")\n",
    "    \n",
    "    # Read first 20 characters\n",
    "    first_part = f.read(20)\n",
    "    print(f\"First 20 characters: '{first_part}'\")\n",
    "    \n",
    "    # Check where we are now\n",
    "    current_position = f.tell()\n",
    "    print(f\"Current position in file: {current_position}\")\n",
    "    \n",
    "    # Jump to the beginning\n",
    "    f.seek(0)\n",
    "    print(f\"After seeking to beginning: position {f.tell()}\")\n",
    "    \n",
    "    # Jump to position 50 and read from there\n",
    "    f.seek(50)\n",
    "    rest_of_line = f.readline()\n",
    "    print(f\"Reading from position 50: '{rest_of_line.strip()}'\")\n",
    "    \n",
    "    # Go back to beginning and read the first line\n",
    "    f.seek(0)\n",
    "    first_line = f.readline()\n",
    "    print(f\"First line: '{first_line.strip()}'\")"
   ]
  },
  {
   "cell_type": "markdown",
   "id": "39cbfd3f",
   "metadata": {},
   "source": [
    "This should be enough, I think. But before we call it a day. Take note of the common mistakes made by beginners when it comes to file handling."
   ]
  },
  {
   "cell_type": "markdown",
   "id": "2672a945",
   "metadata": {},
   "source": [
    "**Common Beginner Mistakes to Avoid**\n",
    "\n",
    "- Forgetting to close files (use with statements!)\n",
    "- Not handling the case when files don't exist\n",
    "- Using the wrong file mode ('w' overwrites everything!)\n",
    "- Forgetting to specify encoding (use encoding=\"utf-8\")\n",
    "- Not understanding the difference between 'r', 'w', and 'a' modes"
   ]
  },
  {
   "cell_type": "code",
   "execution_count": null,
   "id": "3b8ff524",
   "metadata": {},
   "outputs": [],
   "source": []
  }
 ],
 "metadata": {
  "kernelspec": {
   "display_name": "Python 3",
   "language": "python",
   "name": "python3"
  },
  "language_info": {
   "codemirror_mode": {
    "name": "ipython",
    "version": 3
   },
   "file_extension": ".py",
   "mimetype": "text/x-python",
   "name": "python",
   "nbconvert_exporter": "python",
   "pygments_lexer": "ipython3",
   "version": "3.13.7"
  }
 },
 "nbformat": 4,
 "nbformat_minor": 5
}
