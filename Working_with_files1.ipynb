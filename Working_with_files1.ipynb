{
 "cells": [
  {
   "cell_type": "markdown",
   "id": "e962004d",
   "metadata": {},
   "source": [
    "#### **Python File Handling**"
   ]
  },
  {
   "cell_type": "markdown",
   "id": "28d0fbaf",
   "metadata": {},
   "source": [
    "**A file** is a place on your computer where data is stored.\n",
    "\n",
    "- Files can be of different types: text files (.txt, .csv, .json) or binary files (.jpg, .exe, .mp3).\n",
    "\n",
    "- In this notebook, we will focus mainly on text files, but the concepts also apply to binary files.\n",
    "- Tp get a better understanding of how to handle files in python, lets imagine a file as a notebook, you can open a book(open), write inside a book(write), read a book(read), add to what you have written(append), then close the note when you are done(close).\n"
   ]
  },
  {
   "cell_type": "markdown",
   "id": "7580b317",
   "metadata": {},
   "source": [
    "****"
   ]
  },
  {
   "cell_type": "markdown",
   "id": "f398b32d",
   "metadata": {},
   "source": [
    "- So, to get started with working with files or handling files, we must first have a good understanding of `paths`.\n",
    "\n",
    "- A path is simply the \"address\" of a file or folder on your computer, just like a home address tells you where someone lives. \n",
    "\n",
    "1. Current Working Directory (CWD)\n",
    "\n",
    "- When Python runs a program, it always has a current working directory, this is the folder where it looks for files by default.\n",
    "\n",
    "- Create a folder, go to your vscode and open the folder from there.\n",
    "- Create a .py file and name it, \"my_path.py\". Then write the codes below inside it and run."
   ]
  },
  {
   "cell_type": "code",
   "execution_count": null,
   "id": "d655e33d",
   "metadata": {},
   "outputs": [],
   "source": [
    "# This is how it works\n",
    "# Using os.getcwd()\n",
    "\n",
    "import os\n",
    "\n",
    "# Get the current working directory\n",
    "\n",
    "print(\"Current working directory:\", os.getcwd())\n",
    "\n",
    "# Ensure to check the output"
   ]
  },
  {
   "cell_type": "markdown",
   "id": "b7f9a4bf",
   "metadata": {},
   "source": [
    "2. Absolute vs. Relative Paths\n",
    "- I believe you saw something like this in the previous class, when you were activating your environment, right?\n",
    "\n",
    "- **Absolute Path** the full address of a file (like a complete GPS location).\n",
    " - Example:\n",
    "\n",
    "`Windows: C:\\Users\\Chris\\Desktop\\my_path.py`\n",
    "\n",
    "`Mac/Linux: /home/chris/Desktop/my_path.py`\n",
    "\n",
    "- **Relative Path** a shortcut that starts from the current working directory.\n",
    "  - Example:\n",
    "- If your current working directory is C:\\Users\\Chris\\Desktop,\n",
    "then \"my_path.py\" will point to C:\\Users\\Chris\\Desktop\\my_path.py."
   ]
  },
  {
   "cell_type": "code",
   "execution_count": null,
   "id": "8b73b254",
   "metadata": {},
   "outputs": [],
   "source": [
    "# Absolute path example\n",
    "absolute_path = r\"C:\\Users\\Chris\\Desktop\\my_path.py\"\n",
    "\n",
    "# Relative path example\n",
    "relative_path = \"my_path.py\"\n",
    "\n",
    "print(\"Absolute Path:\", absolute_path)\n",
    "print(\"Relative Path:\", relative_path)"
   ]
  },
  {
   "cell_type": "markdown",
   "id": "66ce3982",
   "metadata": {},
   "source": [
    "3. Joining Paths (The Right Way)\n",
    "\n",
    "- A time will come when the need to join paths will arise.The lines of codes should give the understanding of how to."
   ]
  },
  {
   "cell_type": "code",
   "execution_count": null,
   "id": "556f26ed",
   "metadata": {},
   "outputs": [],
   "source": [
    "import os\n",
    "\n",
    "folder = \"C:/Users/Chris/Desktop\"\n",
    "filename = \"my_path.py\"\n",
    "\n",
    "path = os.path.join(folder, filename)\n",
    "print(\"Full path:\", path)\n",
    "\n",
    "#This way, Python handles slashes (/ vs \\) automatically."
   ]
  },
  {
   "cell_type": "markdown",
   "id": "d317c23c",
   "metadata": {},
   "source": [
    "4. Checking If a File or Folder Exists\n",
    "\n",
    "- Sometimes we want to make sure a file is really there before we try to open it.\n",
    "We can check using `os.path.exists`."
   ]
  },
  {
   "cell_type": "code",
   "execution_count": null,
   "id": "3859331f",
   "metadata": {},
   "outputs": [],
   "source": [
    "import os\n",
    "\n",
    "path = \"my_path.py\"\n",
    "\n",
    "if os.path.exists(path):\n",
    "    print(\"Yes, the file exists!\")\n",
    "else:\n",
    "    print(\"File not found.\")"
   ]
  },
  {
   "cell_type": "markdown",
   "id": "22515cba",
   "metadata": {},
   "source": [
    "5. Using pathlib (Modern Way)\n",
    "\n",
    "- Python has a modern library called `pathlib`, which is easier to use than `os`."
   ]
  },
  {
   "cell_type": "code",
   "execution_count": null,
   "id": "325f11a3",
   "metadata": {},
   "outputs": [],
   "source": [
    "from pathlib import Path\n",
    "\n",
    "# Current working directory\n",
    "print(\"Current directory:\", Path.cwd())\n",
    "\n",
    "# Create a Path object\n",
    "file = Path(\"myfile.txt\")\n",
    "\n",
    "# Check if it exists\n",
    "print(\"File exists:\", file.exists())\n",
    "\n",
    "# Combine paths\n",
    "folder = Path(\"C:/Users/Chris/Desktop\")\n",
    "full_path = folder / \"myfile.txt\"\n",
    "print(\"Full path:\", full_path)"
   ]
  },
  {
   "cell_type": "markdown",
   "id": "5d232b27",
   "metadata": {},
   "source": [
    "6. Navigating Folders with pathlib"
   ]
  },
  {
   "cell_type": "code",
   "execution_count": null,
   "id": "16df1d8e",
   "metadata": {},
   "outputs": [],
   "source": [
    "from pathlib import Path\n",
    "\n",
    "# Get parent folder of current file\n",
    "print(\"Parent folder:\", Path.cwd().parent)\n",
    "\n",
    "# List all files in a directory\n",
    "for file in Path.cwd().iterdir():\n",
    "    print(file)\n"
   ]
  }
 ],
 "metadata": {
  "kernelspec": {
   "display_name": "test_env",
   "language": "python",
   "name": "python3"
  },
  "language_info": {
   "name": "python",
   "version": "3.13.6"
  }
 },
 "nbformat": 4,
 "nbformat_minor": 5
}
